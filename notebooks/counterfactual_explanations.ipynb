{
  "cells": [
    {
      "cell_type": "markdown",
      "metadata": {
        "id": "J4c6-k2cuM_6"
      },
      "source": [
        "# Counterfactual explanations\n",
        "Counterfactual explanations (CEs) are an important tool from the field of explainable artificial intelligence (XAI).\n",
        "This notebook teaches what CEs are, why they are important, and provides how they can be discovered.  \n",
        "反事实解释器 CEs 来自 解释人工智能 XAI \n",
        "\n",
        "## To begin with: What is *XAI*?\n",
        "XAI is a subfield of AI concerned with developing methods to help us use AI systems in a fair, safe, and responsible manner.\n",
        "To do that, XAI aims at *explaining* why an AI system (typically, actually a machine learning model) behaves the way it does.\n",
        "There are two main categories of XAI methods:\n",
        "\n",
        "1 - Methods to understand why very large and complex models, like deep neural nets and large ensembles of decision trees, come to certain decisions/predictions.\n",
        "These models are typically called *black-box* models.\n",
        "\n",
        "2 - Methods to generate models that are so simple that they can be interpreted directly. Models of this type are, e.g., decision trees, rule sets, and equations found by symbolic regression.\n",
        "These models are typically called *glass-box* models.\n",
        "\n",
        "## A brief intro to CEs\n",
        "CEs belong to the first category mentioned above: methods to explain black-box models.\n",
        "Let us consider the case in which we have a model that is a classifier, i.e., our model is a function $$f : \\Omega^d → \\mathbb{C},$$\n",
        "where $\\Omega^d$ is our space of $d$ features (some of which are numerical and thus in $\\mathbb{R}$, some of which are categorical) while $\\mathbb{C}$ is the space of classes (for example for a classifier of credit risk, $\\mathbb{C} = \\{ \\textit{High risk}, \\textit{Low risk} \\}$).\n",
        "\n",
        "Say $\\mathbf{x} \\in \\Omega^d$ is a possible input for our classifier $f$.\n",
        "$\\mathbf{x}$ represents a user. For example, $\\mathbf{x}$ can be the:\n",
        "$$\\mathbf{x} = ( \\textit{ age : 22, gender : Female, savings : 5.000\\$, job : student, } \\dots ). $$\n",
        "For a given $\\mathbf{x}$, $f$ will predict a certain class $c$ (e.g., \"$\\textit{High risk}$\").\n",
        "Now, a CE aims to answer the question:\n",
        "\"What **small change** is needed to $\\mathbf{x}$ such that the new input $\\mathbf{x}^\\prime$ will cause $f$ to produce the desired class $c^\\star$? (e.g., $f(\\mathbf{x}^\\prime) = \\textit{Low risk}$).\n",
        "\n",
        "A CE is a possible answer to the question above.\n",
        "For example, an answer could be that the user needs to increase their savings ($\\textit{5.000\\$} → {8.000\\$}$) and change occupation ($ \\textit{student} \\rightarrow \\textit{part-time employed}$).\n",
        "However, a CE may also reveal that $f$ changes its prediction based on ethnicity or gender (all other features remaining the same), meaning that $f$ learned harmful biases (e.g., from historical data) that perpetuate a discrimination against minorities (unfairness).\n",
        "\n",
        "Here's a simplified depiction in a 2D feature space:\n",
        "![](https://drive.google.com/uc?export=view&id=1eQTEExQhIgi-2sEoCcyMELfKXACTrxAW)\n",
        "\n",
        "\n",
        "### Seeking *small* changes to $x$\n",
        "\n",
        "We seek *small* changes to $x$ to observe how $f$ behaves in the neighborhood of an input to gain information on what the decision boundary looks like in that area.\n",
        "Moreover, a very interesting property of CEs is that they prescribe a possible intervention that the user may actually want to pursue!\n",
        "Thus, we wish that the cost of intervention is small for the user.\n",
        "This means that $\\mathbf{x}^\\prime$ needs to be as close as possible to $\\mathbf{x}$, under some meaningful distance function $\\delta$ that captures the cost of intervention.\n",
        "\n",
        "## Additional reading material\n",
        "An excellent and beginner-friendly starting point is the book by Christoph Molnar: \"Inteprable ML Book\".\n",
        "Here's a direct link to his chapter on CEs (co-written by Susanne Dandl): https://christophm.github.io/interpretable-ml-book/counterfactual.html\n",
        "\n",
        "## Note: CEs vs adversarial examples\n",
        "CEs are similar to adversarial examples (AEs). In both cases, one searches for changes to the input $x$ that trigger a change to the prediction made by $f$. However, CEs are intended to explain $f$ and not to fool it!"
      ]
    },
    {
      "cell_type": "markdown",
      "metadata": {
        "id": "IGvCL3iUogUv"
      },
      "source": [
        "## Let's get started\n",
        "In this notebook we simulate a financial credit risk situation, in which a black-box model (we will be using a random forest) has been trained to tell which users are at high or low risk of default (i.e., become unable of paying back the credit given by the bank).\n",
        "We will then use a CE discovery algorithm to see how an user can change their (unfavorable) situation (i.e., f(x)=high risk)."
      ]
    },
    {
      "cell_type": "markdown",
      "metadata": {
        "id": "yGrHkZmHp9J2"
      },
      "source": [
        "### Set up libraries & random seed"
      ]
    },
    {
      "cell_type": "code",
      "execution_count": 1,
      "metadata": {
        "id": "TnthnOL5p8-K"
      },
      "outputs": [],
      "source": [
        "import numpy as np              # 处理数组和矩阵\n",
        "import pandas as pd             # Pandas 是 Python 的核心数据分析支持库，提供了快速、灵活、明确的数据结构，旨在简单、直观地处理关系型、标记型数据。Pandas 的主要数据结构是 Series（一维数据）与 DataFrame（二维数据）.\n",
        "from sklearn.ensemble import RandomForestClassifier         # 导入随机森林分类器\n",
        "from sklearn.model_selection import train_test_split        # 导入数据切分函数\n",
        "# accuracy_score 用于计算分类模型的准确率，即分类正确的样本数除以总样本数\n",
        "# balanced_accuracy_score 平均精度——每个类别下的样本精度的算术平均\n",
        "from sklearn.metrics import accuracy_score, balanced_accuracy_score # sklearn.metrics是scikit-learn开发的用于评估分类、回归和聚类算法性能的模块之一。\n",
        "\n",
        "SEED = 42\n",
        "np.random.seed(SEED) # for reproducibility 生成指定随机数，为了可以再次复现"
      ]
    },
    {
      "cell_type": "markdown",
      "metadata": {
        "id": "Y7QNj2ykp_lT"
      },
      "source": [
        "### Load data\n",
        "We load the data set \"South German Credit\", which concerns learning a model of whether providing a financial credit to a user may be safe or risky.\n",
        "See https://archive.ics.uci.edu/ml/datasets/South+German+Credit+%28UPDATE%29 for more info.\n",
        "\n",
        "We get this data from the repo of CoGS, a baseline algorithm for the discovery of CEs (more details later)."
      ]
    },
    {
      "cell_type": "code",
      "execution_count": 2,
      "metadata": {
        "colab": {
          "base_uri": "https://localhost:8080/"
        },
        "id": "7oqiuCzXtvFS",
        "outputId": "8910b0a3-7ba3-4c19-dbf1-117d6e001750"
      },
      "outputs": [
        {
          "name": "stdout",
          "output_type": "stream",
          "text": [
            "d:\\workspace\\githubLib\\ML-Notebooks\\notebooks\\cogs\n"
          ]
        },
        {
          "name": "stderr",
          "output_type": "stream",
          "text": [
            "C:\\Users\\25627\\AppData\\Roaming\\Python\\Python312\\site-packages\\IPython\\core\\magics\\osm.py:417: UserWarning: This is now an optional IPython functionality, setting dhist requires you to install the `pickleshare` library.\n",
            "  self.shell.db['dhist'] = compress_dhist(dhist)[-100:]\n"
          ]
        },
        {
          "name": "stdout",
          "output_type": "stream",
          "text": [
            "Looking in indexes: https://pypi.tuna.tsinghua.edu.cn/simple\n",
            "Processing d:\\workspace\\githublib\\ml-notebooks\\notebooks\\cogs\n",
            "  Preparing metadata (setup.py): started\n",
            "  Preparing metadata (setup.py): finished with status 'done'\n",
            "Requirement already satisfied: numpy>=1.16.1 in d:\\anaconda3\\lib\\site-packages (from cogs==1.0.0) (1.26.4)\n",
            "Building wheels for collected packages: cogs\n",
            "  Building wheel for cogs (setup.py): started\n",
            "  Building wheel for cogs (setup.py): finished with status 'done'\n",
            "  Created wheel for cogs: filename=cogs-1.0.0-py3-none-any.whl size=23637 sha256=f42c567dddf7e3929cac2c91d96808c037801cda875f733284634e5f087d2bec\n",
            "  Stored in directory: C:\\Users\\25627\\AppData\\Local\\Temp\\pip-ephem-wheel-cache-r2th5tt4\\wheels\\a6\\aa\\39\\3647cb5659512021c0e4d308f7a8383af08969951c5b379cfb\n",
            "Successfully built cogs\n",
            "Installing collected packages: cogs\n",
            "  Attempting uninstall: cogs\n",
            "    Found existing installation: cogs 1.0.0\n",
            "    Uninstalling cogs-1.0.0:\n",
            "      Successfully uninstalled cogs-1.0.0\n",
            "Successfully installed cogs-1.0.0\n"
          ]
        }
      ],
      "source": [
        "# clone repo, access, and install repo\n",
        "# ! git clone https://github.com/marcovirgolin/cogs   # 下载COGS(Counterfactual Genetic Search)\n",
        " # 进入clone的文件目录   UsageError: Line magic function `%` not found：去掉 % cd 中间的空格。\n",
        "%cd cogs\n",
        "# 执行setup.py文件           \n",
        "! pip install .     "
      ]
    },
    {
      "cell_type": "markdown",
      "metadata": {
        "id": "JR2I2y6ptwBJ"
      },
      "source": [
        "Load the data and preprocess it a bit"
      ]
    },
    {
      "cell_type": "code",
      "execution_count": 3,
      "metadata": {
        "colab": {
          "base_uri": "https://localhost:8080/"
        },
        "id": "-jkZaa82p2sV",
        "outputId": "83e3ec70-fe4c-439a-86e8-1ad67008c3c3"
      },
      "outputs": [
        {
          "name": "stdout",
          "output_type": "stream",
          "text": [
            "Num. features: 19, feature names: ['duration_in_month', 'credit_history', 'purpose', 'credit_amount', 'savings', 'present_emp_since', 'installment_as_income_perc', 'personal_status_sex', 'other_debtors', 'present_res_since', 'property', 'age', 'other_installment_plans', 'housing', 'credits_this_bank', 'job', 'people_under_maintenance', 'telephone', 'foreign_worker']\n"
          ]
        }
      ],
      "source": [
        "# Load data set & do some pre-processing\n",
        "df = pd.read_csv(\"south_german_credit.csv\")     # 读取csv格式数据集文件，该数据集是研究德国南部的信贷问题的\n",
        "df.drop(\"account_check_status\",axis=1,inplace=True) # 删除account_check_status列；axis：用于确定要删除的是行还是列，0表示行，1表示列。inplace：指定是否在原始数据帧中进行删除操作。默认值为False\n",
        "# 类别型特征是指哪些在有限可能选项中取值的特征。这些有限可能选项通常是离散的，而且大多数情况下是字符串形式的，除了少数模型能够直接处理类别型特征，对于大多数模型来说都需要对类别型特征进行必要的处理，转换成数值型特征才能正常工作。\n",
        "# 处理类别型特征的方式：https://blog.csdn.net/qq_39780701/article/details/136989309\n",
        "# 1.序号编码（Ordinal Encoding）-- 序号编码通常处理类别特征之间存在明确的顺序关系（即等级或次序意义）时。\n",
        "# 2.标签编码（Label Encoding）--  标签编码方式是说将每一个类别赋予一个唯一的整数标签，但并不表达类别之间的顺序关系。\n",
        "# 3.独热编码（One-hot Encoding）\n",
        "# 4.二进制编码（Binary Encoding）\n",
        "categorical_feature_names = ['purpose', 'personal_status_sex',\n",
        "    'other_debtors', 'other_installment_plans', 'telephone', 'foreign_worker']      # 类别型特征列表\n",
        "# Note: some other features are indices (categories in which the order matters), treated as numerical here for simplicity\n",
        "label_name = 'credit_risk'              # 标签名字是 credit_risk\n",
        "desired_class = 1 # this means \"low risk\"   期望的分类是 低风险\n",
        "\n",
        "for feat in categorical_feature_names: # convert categorical features into integer codes    将类别型特征转换为整数，将不同的类别的赋予一个唯一的整数标签\n",
        "    df[feat] = pd.Categorical(df[feat]) # Categorical()可以用来计算一个列表类型数据中的类别数，即不重复项。它返回的是一个CategoricalDtype\n",
        "    df[feat] = df[feat].cat.codes   # cat需先把特征转换为category 类型，然后调用codes转换为分类变量。\n",
        "feature_names = list(df.columns)    # 将列标签转换为list并存储在feature_names变量中\n",
        "feature_names.remove(label_name)    # 在feature_names list中移除lable_name\n",
        "\n",
        "print(\"Num. features: {}, feature names: {}\".format(len(feature_names), feature_names)) # 打印feature_names的长度和内容\n",
        "\n",
        "# Prepare data to be in numpy format, as typically used to train a scikit-learn model\n",
        "X = df[feature_names].to_numpy()    # 将feature_names标签下的DataFrame转化为numpy，赋值给X变量\n",
        "y = df[label_name].to_numpy().astype(int)   # 将 credit_risk 标签下的DataFrame转化为numpy 并指定为int类型赋值给y变量。numpy.ndarray.astype 函数用于将数组的数据类型转换为指定的类型\n",
        "# Assume we have a specific train & test split\n",
        "X_train, X_test, y_train, y_test = train_test_split(X, y, test_size=0.1, random_state=SEED) # 使用之前生成的SEED划分训练集和测试集；\n",
        "# test_size\t分割比例，默认为0.25，即测试集占完整数据集的比例；\n",
        "# random_state：是随机数的种子。随机数种子：其实就是该组随机数的编号，在需要重复试验的时候，保证得到一组一样的随机数。"
      ]
    },
    {
      "cell_type": "markdown",
      "metadata": {
        "id": "SWXjBOl1qSGe"
      },
      "source": [
        "### Train the model\n",
        "Here we train the model, but in a practical situation we may assume that the model has already been trained (and is, e.g., property of the bank that assesses to whether to award the credit or not).\n",
        "\n",
        "We use random forest because it is quick and easy. However, you can use any model you like, such as a deep neural net.\n",
        "As classicly done in XAI litereature, we call this model a *black-box model*."
      ]
    },
    {
      "cell_type": "code",
      "execution_count": 4,
      "metadata": {
        "colab": {
          "base_uri": "https://localhost:8080/"
        },
        "id": "h88N_NNhqg8e",
        "outputId": "f64f2eb7-72a0-401e-ddd0-31424aaaa233"
      },
      "outputs": [
        {
          "data": {
            "text/html": [
              "<style>#sk-container-id-1 {\n",
              "  /* Definition of color scheme common for light and dark mode */\n",
              "  --sklearn-color-text: black;\n",
              "  --sklearn-color-line: gray;\n",
              "  /* Definition of color scheme for unfitted estimators */\n",
              "  --sklearn-color-unfitted-level-0: #fff5e6;\n",
              "  --sklearn-color-unfitted-level-1: #f6e4d2;\n",
              "  --sklearn-color-unfitted-level-2: #ffe0b3;\n",
              "  --sklearn-color-unfitted-level-3: chocolate;\n",
              "  /* Definition of color scheme for fitted estimators */\n",
              "  --sklearn-color-fitted-level-0: #f0f8ff;\n",
              "  --sklearn-color-fitted-level-1: #d4ebff;\n",
              "  --sklearn-color-fitted-level-2: #b3dbfd;\n",
              "  --sklearn-color-fitted-level-3: cornflowerblue;\n",
              "\n",
              "  /* Specific color for light theme */\n",
              "  --sklearn-color-text-on-default-background: var(--sg-text-color, var(--theme-code-foreground, var(--jp-content-font-color1, black)));\n",
              "  --sklearn-color-background: var(--sg-background-color, var(--theme-background, var(--jp-layout-color0, white)));\n",
              "  --sklearn-color-border-box: var(--sg-text-color, var(--theme-code-foreground, var(--jp-content-font-color1, black)));\n",
              "  --sklearn-color-icon: #696969;\n",
              "\n",
              "  @media (prefers-color-scheme: dark) {\n",
              "    /* Redefinition of color scheme for dark theme */\n",
              "    --sklearn-color-text-on-default-background: var(--sg-text-color, var(--theme-code-foreground, var(--jp-content-font-color1, white)));\n",
              "    --sklearn-color-background: var(--sg-background-color, var(--theme-background, var(--jp-layout-color0, #111)));\n",
              "    --sklearn-color-border-box: var(--sg-text-color, var(--theme-code-foreground, var(--jp-content-font-color1, white)));\n",
              "    --sklearn-color-icon: #878787;\n",
              "  }\n",
              "}\n",
              "\n",
              "#sk-container-id-1 {\n",
              "  color: var(--sklearn-color-text);\n",
              "}\n",
              "\n",
              "#sk-container-id-1 pre {\n",
              "  padding: 0;\n",
              "}\n",
              "\n",
              "#sk-container-id-1 input.sk-hidden--visually {\n",
              "  border: 0;\n",
              "  clip: rect(1px 1px 1px 1px);\n",
              "  clip: rect(1px, 1px, 1px, 1px);\n",
              "  height: 1px;\n",
              "  margin: -1px;\n",
              "  overflow: hidden;\n",
              "  padding: 0;\n",
              "  position: absolute;\n",
              "  width: 1px;\n",
              "}\n",
              "\n",
              "#sk-container-id-1 div.sk-dashed-wrapped {\n",
              "  border: 1px dashed var(--sklearn-color-line);\n",
              "  margin: 0 0.4em 0.5em 0.4em;\n",
              "  box-sizing: border-box;\n",
              "  padding-bottom: 0.4em;\n",
              "  background-color: var(--sklearn-color-background);\n",
              "}\n",
              "\n",
              "#sk-container-id-1 div.sk-container {\n",
              "  /* jupyter's `normalize.less` sets `[hidden] { display: none; }`\n",
              "     but bootstrap.min.css set `[hidden] { display: none !important; }`\n",
              "     so we also need the `!important` here to be able to override the\n",
              "     default hidden behavior on the sphinx rendered scikit-learn.org.\n",
              "     See: https://github.com/scikit-learn/scikit-learn/issues/21755 */\n",
              "  display: inline-block !important;\n",
              "  position: relative;\n",
              "}\n",
              "\n",
              "#sk-container-id-1 div.sk-text-repr-fallback {\n",
              "  display: none;\n",
              "}\n",
              "\n",
              "div.sk-parallel-item,\n",
              "div.sk-serial,\n",
              "div.sk-item {\n",
              "  /* draw centered vertical line to link estimators */\n",
              "  background-image: linear-gradient(var(--sklearn-color-text-on-default-background), var(--sklearn-color-text-on-default-background));\n",
              "  background-size: 2px 100%;\n",
              "  background-repeat: no-repeat;\n",
              "  background-position: center center;\n",
              "}\n",
              "\n",
              "/* Parallel-specific style estimator block */\n",
              "\n",
              "#sk-container-id-1 div.sk-parallel-item::after {\n",
              "  content: \"\";\n",
              "  width: 100%;\n",
              "  border-bottom: 2px solid var(--sklearn-color-text-on-default-background);\n",
              "  flex-grow: 1;\n",
              "}\n",
              "\n",
              "#sk-container-id-1 div.sk-parallel {\n",
              "  display: flex;\n",
              "  align-items: stretch;\n",
              "  justify-content: center;\n",
              "  background-color: var(--sklearn-color-background);\n",
              "  position: relative;\n",
              "}\n",
              "\n",
              "#sk-container-id-1 div.sk-parallel-item {\n",
              "  display: flex;\n",
              "  flex-direction: column;\n",
              "}\n",
              "\n",
              "#sk-container-id-1 div.sk-parallel-item:first-child::after {\n",
              "  align-self: flex-end;\n",
              "  width: 50%;\n",
              "}\n",
              "\n",
              "#sk-container-id-1 div.sk-parallel-item:last-child::after {\n",
              "  align-self: flex-start;\n",
              "  width: 50%;\n",
              "}\n",
              "\n",
              "#sk-container-id-1 div.sk-parallel-item:only-child::after {\n",
              "  width: 0;\n",
              "}\n",
              "\n",
              "/* Serial-specific style estimator block */\n",
              "\n",
              "#sk-container-id-1 div.sk-serial {\n",
              "  display: flex;\n",
              "  flex-direction: column;\n",
              "  align-items: center;\n",
              "  background-color: var(--sklearn-color-background);\n",
              "  padding-right: 1em;\n",
              "  padding-left: 1em;\n",
              "}\n",
              "\n",
              "\n",
              "/* Toggleable style: style used for estimator/Pipeline/ColumnTransformer box that is\n",
              "clickable and can be expanded/collapsed.\n",
              "- Pipeline and ColumnTransformer use this feature and define the default style\n",
              "- Estimators will overwrite some part of the style using the `sk-estimator` class\n",
              "*/\n",
              "\n",
              "/* Pipeline and ColumnTransformer style (default) */\n",
              "\n",
              "#sk-container-id-1 div.sk-toggleable {\n",
              "  /* Default theme specific background. It is overwritten whether we have a\n",
              "  specific estimator or a Pipeline/ColumnTransformer */\n",
              "  background-color: var(--sklearn-color-background);\n",
              "}\n",
              "\n",
              "/* Toggleable label */\n",
              "#sk-container-id-1 label.sk-toggleable__label {\n",
              "  cursor: pointer;\n",
              "  display: block;\n",
              "  width: 100%;\n",
              "  margin-bottom: 0;\n",
              "  padding: 0.5em;\n",
              "  box-sizing: border-box;\n",
              "  text-align: center;\n",
              "}\n",
              "\n",
              "#sk-container-id-1 label.sk-toggleable__label-arrow:before {\n",
              "  /* Arrow on the left of the label */\n",
              "  content: \"▸\";\n",
              "  float: left;\n",
              "  margin-right: 0.25em;\n",
              "  color: var(--sklearn-color-icon);\n",
              "}\n",
              "\n",
              "#sk-container-id-1 label.sk-toggleable__label-arrow:hover:before {\n",
              "  color: var(--sklearn-color-text);\n",
              "}\n",
              "\n",
              "/* Toggleable content - dropdown */\n",
              "\n",
              "#sk-container-id-1 div.sk-toggleable__content {\n",
              "  max-height: 0;\n",
              "  max-width: 0;\n",
              "  overflow: hidden;\n",
              "  text-align: left;\n",
              "  /* unfitted */\n",
              "  background-color: var(--sklearn-color-unfitted-level-0);\n",
              "}\n",
              "\n",
              "#sk-container-id-1 div.sk-toggleable__content.fitted {\n",
              "  /* fitted */\n",
              "  background-color: var(--sklearn-color-fitted-level-0);\n",
              "}\n",
              "\n",
              "#sk-container-id-1 div.sk-toggleable__content pre {\n",
              "  margin: 0.2em;\n",
              "  border-radius: 0.25em;\n",
              "  color: var(--sklearn-color-text);\n",
              "  /* unfitted */\n",
              "  background-color: var(--sklearn-color-unfitted-level-0);\n",
              "}\n",
              "\n",
              "#sk-container-id-1 div.sk-toggleable__content.fitted pre {\n",
              "  /* unfitted */\n",
              "  background-color: var(--sklearn-color-fitted-level-0);\n",
              "}\n",
              "\n",
              "#sk-container-id-1 input.sk-toggleable__control:checked~div.sk-toggleable__content {\n",
              "  /* Expand drop-down */\n",
              "  max-height: 200px;\n",
              "  max-width: 100%;\n",
              "  overflow: auto;\n",
              "}\n",
              "\n",
              "#sk-container-id-1 input.sk-toggleable__control:checked~label.sk-toggleable__label-arrow:before {\n",
              "  content: \"▾\";\n",
              "}\n",
              "\n",
              "/* Pipeline/ColumnTransformer-specific style */\n",
              "\n",
              "#sk-container-id-1 div.sk-label input.sk-toggleable__control:checked~label.sk-toggleable__label {\n",
              "  color: var(--sklearn-color-text);\n",
              "  background-color: var(--sklearn-color-unfitted-level-2);\n",
              "}\n",
              "\n",
              "#sk-container-id-1 div.sk-label.fitted input.sk-toggleable__control:checked~label.sk-toggleable__label {\n",
              "  background-color: var(--sklearn-color-fitted-level-2);\n",
              "}\n",
              "\n",
              "/* Estimator-specific style */\n",
              "\n",
              "/* Colorize estimator box */\n",
              "#sk-container-id-1 div.sk-estimator input.sk-toggleable__control:checked~label.sk-toggleable__label {\n",
              "  /* unfitted */\n",
              "  background-color: var(--sklearn-color-unfitted-level-2);\n",
              "}\n",
              "\n",
              "#sk-container-id-1 div.sk-estimator.fitted input.sk-toggleable__control:checked~label.sk-toggleable__label {\n",
              "  /* fitted */\n",
              "  background-color: var(--sklearn-color-fitted-level-2);\n",
              "}\n",
              "\n",
              "#sk-container-id-1 div.sk-label label.sk-toggleable__label,\n",
              "#sk-container-id-1 div.sk-label label {\n",
              "  /* The background is the default theme color */\n",
              "  color: var(--sklearn-color-text-on-default-background);\n",
              "}\n",
              "\n",
              "/* On hover, darken the color of the background */\n",
              "#sk-container-id-1 div.sk-label:hover label.sk-toggleable__label {\n",
              "  color: var(--sklearn-color-text);\n",
              "  background-color: var(--sklearn-color-unfitted-level-2);\n",
              "}\n",
              "\n",
              "/* Label box, darken color on hover, fitted */\n",
              "#sk-container-id-1 div.sk-label.fitted:hover label.sk-toggleable__label.fitted {\n",
              "  color: var(--sklearn-color-text);\n",
              "  background-color: var(--sklearn-color-fitted-level-2);\n",
              "}\n",
              "\n",
              "/* Estimator label */\n",
              "\n",
              "#sk-container-id-1 div.sk-label label {\n",
              "  font-family: monospace;\n",
              "  font-weight: bold;\n",
              "  display: inline-block;\n",
              "  line-height: 1.2em;\n",
              "}\n",
              "\n",
              "#sk-container-id-1 div.sk-label-container {\n",
              "  text-align: center;\n",
              "}\n",
              "\n",
              "/* Estimator-specific */\n",
              "#sk-container-id-1 div.sk-estimator {\n",
              "  font-family: monospace;\n",
              "  border: 1px dotted var(--sklearn-color-border-box);\n",
              "  border-radius: 0.25em;\n",
              "  box-sizing: border-box;\n",
              "  margin-bottom: 0.5em;\n",
              "  /* unfitted */\n",
              "  background-color: var(--sklearn-color-unfitted-level-0);\n",
              "}\n",
              "\n",
              "#sk-container-id-1 div.sk-estimator.fitted {\n",
              "  /* fitted */\n",
              "  background-color: var(--sklearn-color-fitted-level-0);\n",
              "}\n",
              "\n",
              "/* on hover */\n",
              "#sk-container-id-1 div.sk-estimator:hover {\n",
              "  /* unfitted */\n",
              "  background-color: var(--sklearn-color-unfitted-level-2);\n",
              "}\n",
              "\n",
              "#sk-container-id-1 div.sk-estimator.fitted:hover {\n",
              "  /* fitted */\n",
              "  background-color: var(--sklearn-color-fitted-level-2);\n",
              "}\n",
              "\n",
              "/* Specification for estimator info (e.g. \"i\" and \"?\") */\n",
              "\n",
              "/* Common style for \"i\" and \"?\" */\n",
              "\n",
              ".sk-estimator-doc-link,\n",
              "a:link.sk-estimator-doc-link,\n",
              "a:visited.sk-estimator-doc-link {\n",
              "  float: right;\n",
              "  font-size: smaller;\n",
              "  line-height: 1em;\n",
              "  font-family: monospace;\n",
              "  background-color: var(--sklearn-color-background);\n",
              "  border-radius: 1em;\n",
              "  height: 1em;\n",
              "  width: 1em;\n",
              "  text-decoration: none !important;\n",
              "  margin-left: 1ex;\n",
              "  /* unfitted */\n",
              "  border: var(--sklearn-color-unfitted-level-1) 1pt solid;\n",
              "  color: var(--sklearn-color-unfitted-level-1);\n",
              "}\n",
              "\n",
              ".sk-estimator-doc-link.fitted,\n",
              "a:link.sk-estimator-doc-link.fitted,\n",
              "a:visited.sk-estimator-doc-link.fitted {\n",
              "  /* fitted */\n",
              "  border: var(--sklearn-color-fitted-level-1) 1pt solid;\n",
              "  color: var(--sklearn-color-fitted-level-1);\n",
              "}\n",
              "\n",
              "/* On hover */\n",
              "div.sk-estimator:hover .sk-estimator-doc-link:hover,\n",
              ".sk-estimator-doc-link:hover,\n",
              "div.sk-label-container:hover .sk-estimator-doc-link:hover,\n",
              ".sk-estimator-doc-link:hover {\n",
              "  /* unfitted */\n",
              "  background-color: var(--sklearn-color-unfitted-level-3);\n",
              "  color: var(--sklearn-color-background);\n",
              "  text-decoration: none;\n",
              "}\n",
              "\n",
              "div.sk-estimator.fitted:hover .sk-estimator-doc-link.fitted:hover,\n",
              ".sk-estimator-doc-link.fitted:hover,\n",
              "div.sk-label-container:hover .sk-estimator-doc-link.fitted:hover,\n",
              ".sk-estimator-doc-link.fitted:hover {\n",
              "  /* fitted */\n",
              "  background-color: var(--sklearn-color-fitted-level-3);\n",
              "  color: var(--sklearn-color-background);\n",
              "  text-decoration: none;\n",
              "}\n",
              "\n",
              "/* Span, style for the box shown on hovering the info icon */\n",
              ".sk-estimator-doc-link span {\n",
              "  display: none;\n",
              "  z-index: 9999;\n",
              "  position: relative;\n",
              "  font-weight: normal;\n",
              "  right: .2ex;\n",
              "  padding: .5ex;\n",
              "  margin: .5ex;\n",
              "  width: min-content;\n",
              "  min-width: 20ex;\n",
              "  max-width: 50ex;\n",
              "  color: var(--sklearn-color-text);\n",
              "  box-shadow: 2pt 2pt 4pt #999;\n",
              "  /* unfitted */\n",
              "  background: var(--sklearn-color-unfitted-level-0);\n",
              "  border: .5pt solid var(--sklearn-color-unfitted-level-3);\n",
              "}\n",
              "\n",
              ".sk-estimator-doc-link.fitted span {\n",
              "  /* fitted */\n",
              "  background: var(--sklearn-color-fitted-level-0);\n",
              "  border: var(--sklearn-color-fitted-level-3);\n",
              "}\n",
              "\n",
              ".sk-estimator-doc-link:hover span {\n",
              "  display: block;\n",
              "}\n",
              "\n",
              "/* \"?\"-specific style due to the `<a>` HTML tag */\n",
              "\n",
              "#sk-container-id-1 a.estimator_doc_link {\n",
              "  float: right;\n",
              "  font-size: 1rem;\n",
              "  line-height: 1em;\n",
              "  font-family: monospace;\n",
              "  background-color: var(--sklearn-color-background);\n",
              "  border-radius: 1rem;\n",
              "  height: 1rem;\n",
              "  width: 1rem;\n",
              "  text-decoration: none;\n",
              "  /* unfitted */\n",
              "  color: var(--sklearn-color-unfitted-level-1);\n",
              "  border: var(--sklearn-color-unfitted-level-1) 1pt solid;\n",
              "}\n",
              "\n",
              "#sk-container-id-1 a.estimator_doc_link.fitted {\n",
              "  /* fitted */\n",
              "  border: var(--sklearn-color-fitted-level-1) 1pt solid;\n",
              "  color: var(--sklearn-color-fitted-level-1);\n",
              "}\n",
              "\n",
              "/* On hover */\n",
              "#sk-container-id-1 a.estimator_doc_link:hover {\n",
              "  /* unfitted */\n",
              "  background-color: var(--sklearn-color-unfitted-level-3);\n",
              "  color: var(--sklearn-color-background);\n",
              "  text-decoration: none;\n",
              "}\n",
              "\n",
              "#sk-container-id-1 a.estimator_doc_link.fitted:hover {\n",
              "  /* fitted */\n",
              "  background-color: var(--sklearn-color-fitted-level-3);\n",
              "}\n",
              "</style><div id=\"sk-container-id-1\" class=\"sk-top-container\"><div class=\"sk-text-repr-fallback\"><pre>RandomForestClassifier(class_weight=&#x27;balanced&#x27;, min_samples_leaf=25,\n",
              "                       random_state=42)</pre><b>In a Jupyter environment, please rerun this cell to show the HTML representation or trust the notebook. <br />On GitHub, the HTML representation is unable to render, please try loading this page with nbviewer.org.</b></div><div class=\"sk-container\" hidden><div class=\"sk-item\"><div class=\"sk-estimator fitted sk-toggleable\"><input class=\"sk-toggleable__control sk-hidden--visually\" id=\"sk-estimator-id-1\" type=\"checkbox\" checked><label for=\"sk-estimator-id-1\" class=\"sk-toggleable__label fitted sk-toggleable__label-arrow fitted\">&nbsp;&nbsp;RandomForestClassifier<a class=\"sk-estimator-doc-link fitted\" rel=\"noreferrer\" target=\"_blank\" href=\"https://scikit-learn.org/1.5/modules/generated/sklearn.ensemble.RandomForestClassifier.html\">?<span>Documentation for RandomForestClassifier</span></a><span class=\"sk-estimator-doc-link fitted\">i<span>Fitted</span></span></label><div class=\"sk-toggleable__content fitted\"><pre>RandomForestClassifier(class_weight=&#x27;balanced&#x27;, min_samples_leaf=25,\n",
              "                       random_state=42)</pre></div> </div></div></div></div>"
            ],
            "text/plain": [
              "RandomForestClassifier(class_weight='balanced', min_samples_leaf=25,\n",
              "                       random_state=42)"
            ]
          },
          "execution_count": 4,
          "metadata": {},
          "output_type": "execute_result"
        }
      ],
      "source": [
        "# Train black-box model (bbm)   训练一个黑盒模型\n",
        "bbm = RandomForestClassifier(random_state=SEED, class_weight=\"balanced\", min_samples_leaf=25)   # 实例化随机森林分类器\n",
        "bbm.fit(X_train, y_train)   # 将模型与训练数据拟合；从训练数据集(X,y)上建立一个决策树森林。 \n",
        "# note: we do not one-hot encode multi-category features here for simplicity"
      ]
    },
    {
      "cell_type": "markdown",
      "metadata": {
        "id": "ye5fAPULv5uR"
      },
      "source": [
        "Let's check that the model has a decent accuracy\n",
        "(Note: not really needed for the purpose of CEs)"
      ]
    },
    {
      "cell_type": "code",
      "execution_count": 5,
      "metadata": {
        "colab": {
          "base_uri": "https://localhost:8080/"
        },
        "id": "kCtSTtm-v8OK",
        "outputId": "3b0e73e9-80f4-4b29-fd5d-9a6db3d26185"
      },
      "outputs": [
        {
          "name": "stdout",
          "output_type": "stream",
          "text": [
            "acc:0.760, bal.-acc:0.691\n"
          ]
        }
      ],
      "source": [
        "# 输出训练的模型在测试集上的准确率（即分类正确的样本数除以总样本数）和平均准确率（每个类别下的样本精度的算术平均）\n",
        "print(\"acc:{:.3f}, bal.-acc:{:.3f}\".format(accuracy_score(y_test, bbm.predict(X_test)), balanced_accuracy_score(y_test, bbm.predict(X_test))))"
      ]
    },
    {
      "cell_type": "markdown",
      "metadata": {
        "id": "nKS172JXuNAC"
      },
      "source": [
        "### Pick the user\n",
        "Next, we simulate to have a user for whom the decision of the black-box model is the undesired one.\n",
        "For example, let's pick the last point in the test set for which the prediction is unfavourable."
      ]
    },
    {
      "cell_type": "code",
      "execution_count": 6,
      "metadata": {
        "colab": {
          "base_uri": "https://localhost:8080/"
        },
        "id": "3k7vjJZXuNAD",
        "outputId": "680b07f2-41ab-4492-ed3d-ec66286d703f"
      },
      "outputs": [
        {
          "name": "stdout",
          "output_type": "stream",
          "text": [
            "Description of x:\n",
            "  duration_in_month              48\n",
            "  credit_history                 0\n",
            "  purpose                        8\n",
            "  credit_amount                  3844\n",
            "  savings                        2\n",
            "  present_emp_since              4\n",
            "  installment_as_income_perc     4\n",
            "  personal_status_sex            2\n",
            "  other_debtors                  0\n",
            "  present_res_since              4\n",
            "  property                       4\n",
            "  age                            34\n",
            "  other_installment_plans        2\n",
            "  housing                        3\n",
            "  credits_this_bank              1\n",
            "  job                            2\n",
            "  people_under_maintenance       1\n",
            "  telephone                      0\n",
            "  foreign_worker                 1\n"
          ]
        }
      ],
      "source": [
        "# Let's consider, e.g., the last test sample for which an undesired decision is given\n",
        "p = bbm.predict(X_test) # 预测X_test的类别\n",
        "# print(p)\n",
        "# print(np.argwhere(p != desired_class).shape)\n",
        "# print(np.argwhere(p != desired_class))\n",
        "# print(np.argwhere(p != desired_class).squeeze().shape)\n",
        "# np.argwhere(p != desired_class) 返回 X_test预测的类别不为desired_class 的数组元组的索引\n",
        "# np.squeeze（）函数可以删除数组形状中的单维度条目，即把shape中为1的维度去掉，但是对非单维的维度不起作用。\n",
        "idx = np.argwhere(p != desired_class).squeeze()[-1]   # 获取最后一个预测类别不为desited_class 的数据的序号\n",
        "\n",
        "x = X_test[idx] # this is our unhappy user! 将选取的数据赋值给变量x\n",
        "\n",
        "# show features of this user  打印变量x的特征数据\n",
        "print(\"Description of x:\")\n",
        "for i, feat_name in enumerate(feature_names):     # 遍历feature_names列表\n",
        "  print(\" \", feat_name+\" \"*(30-len(feat_name)), x[i])"
      ]
    },
    {
      "cell_type": "markdown",
      "metadata": {
        "id": "cinV3YS8uNAD"
      },
      "source": [
        "### CE discovery algorithm\n",
        "We use the library CoGS to find a CE.\n",
        "CoGS (Counterfactual Genetic Search) is a relatively quick to run and easy to use library that makes no assumptions on the black-box model $f$ (e.g., it does not require linearity nor gradients to work).\n",
        "Moreover, CoGS can handle both numerical and categorical features.\n"
      ]
    },
    {
      "cell_type": "markdown",
      "metadata": {
        "id": "0GtnJ2fhryAa"
      },
      "source": [
        "### Setting up the search space\n",
        "To set up the space in which CoGS searches, we must provide:\n",
        "1) Intervals within which the search takes place (for categorical features, which categories are possible)          搜索的间隔\n",
        "2) The indices of categorical features (for CoGS to know which are categorical and which are numerical)             区分那些特征是类别型特征（categorical features）哪些是数字型特征\n",
        "3) Optional plausibility constraints to ensure that the discovered CE can be realized (e.g., the age of a person cannot decrease)   可选的合理性约束以确保discovered CE能实现\n",
        "\n",
        "All of these three must be provided as lists that have the same order, in particular the order used to list the feature in `X_train` and `X_test`."
      ]
    },
    {
      "cell_type": "code",
      "execution_count": 7,
      "metadata": {
        "id": "HqwFrDnYuNAE"
      },
      "outputs": [],
      "source": [
        "# Set up search bounds  设置搜索的边界\n",
        "feature_intervals = list()  # 声明一个用来保存特征搜索间距的空列表\n",
        "for i, feat in enumerate(feature_names):    # 遍历feature_names列表\n",
        "  if feat in categorical_feature_names:     # 如果该feat为类别型特征（categorical feature)\n",
        "    interval_i = np.unique(X_train[:,i])    # 去除该列其中重复的元素 ，并按元素 由小到大 返回一个新的无元素重复的数组（递增的整数序列？）\n",
        "  else:                                     # 如果该feat不在categorical_feature_names列表内\n",
        "    interval_i = (np.min(X_train[:,i]), np.max(X_train[:,i])) # 创建一个包含该列最小值最大值的元组\n",
        "  feature_intervals.append(interval_i)  # 将创建的元组添加到feature_intervals中\n",
        "\n",
        "# Set up which feature indices are categorical  # 设置那些特征索引是类别型特征（categorical feature)\n",
        "indices_categorical_features = [i for i, feat in enumerate(feature_names) if feat in categorical_feature_names] # 将categorical feature 所在的列索引存储在indices_categorical_features中\n",
        "\n",
        "# Let's also set up a plausibility constraint for the feature \"age\" (can only increase) \n",
        "# and one for foreign worker (cannot change, must stay equal to what it is) \n",
        "pcs = ['>=' if feat=='age' else ('=' if feat=='foreign_worker' else None) for feat in feature_names]  # 对age特征做设置一个合理性约束--只能增加; 对foreign worker特征做设置一个合理性约束--不能改变\n",
        "# for feat in feature_names\n",
        "#   if feat=='age'\n",
        "#     '>=' \n",
        "#   else \n",
        "#     if feat=='foreign_worker'\n",
        "#       '='\n",
        "#     else \n",
        "#       None"
      ]
    },
    {
      "cell_type": "markdown",
      "metadata": {
        "id": "0yztFC6buNAE"
      },
      "source": [
        "## Hyper parameters\n",
        "We can now setup the hyper-parameters of CoGS, and then run the search!\n",
        "We put some comments to explain what they mean in the code below.\n",
        "\n",
        "As distance $\\delta$, here we use Gower's distance, which takes into account both numerical differences and categorical mismatches (see https://christophm.github.io/interpretable-ml-book/counterfactual.html#method-by-dandl-et-al.).\n",
        "In a genetic algorithm, the quality of solutions is measured in terms of *fitness*, where normally higher is better.\n",
        "Thus the fitness used here is set to be the opposite of Gower's distance."
      ]
    },
    {
      "cell_type": "code",
      "execution_count": 8,
      "metadata": {
        "id": "I5TqNa9NuNAE"
      },
      "outputs": [],
      "source": [
        "from cogs.evolution import Evolution\n",
        "from cogs.fitness import gower_fitness_function         # a classic fitness function for counterfactual explanations\n",
        "\n",
        "cogs = Evolution(\n",
        "        ### hyper-parameters of the problem (required!) ###\n",
        "        x=x,  # the starting point aka unhappy user                                                                     起始点，即获取的最后一个预测类别不为desited_class 的数据的序号\n",
        "        fitness_function=gower_fitness_function,  # a classic fitness function for counterfactual explanations          反事实解释的一个经典适应度函数\n",
        "        fitness_function_kwargs={'blackbox':bbm,'desired_class': desired_class},  # these must be passed for the fitness function to work        gower_fitness_function()函数的参数：'blackbox':bbm--训练的模型,'desired_class': desired_class 期望的类别\n",
        "        feature_intervals=feature_intervals,  # intervals within which the search operates                              搜索操作的间距\n",
        "        indices_categorical_features=indices_categorical_features,  # the indices of the features that are categorical  这些特征的索引是类别型特征（categorical feature)\n",
        "        plausibility_constraints=pcs, # can be \"None\" if no constraints need to be set                                  约束条件，如果没有设置约束可以为None\n",
        "        ### hyper-parameters of the evolution (all optional) ###                                                        Evolution 设置参数\n",
        "        evolution_type='classic',       # the type of evolution, classic works quite  well                              evolution的类型：classic\n",
        "        population_size=1000,           # how many candidate counterfactual examples to evolve simultaneously           同时演化多少个候选counterfactual examples\n",
        "        n_generations=25,               # number of iterations for the evolution                                        evolution的迭代次数\n",
        "        selection_name='tournament_4',  # selection pressure                                                            设置遗传算法中的选择压力；Truncation selection(截断选择)在截断选择中，根据适应度值对种群中的个体按照从优到劣的顺序进行排序，只有前n个最好的个体被选择进入下一代。\n",
        "        init_temperature=0.8, # how \"far\" from x we initialize                                                          距我们初始x多“远”\n",
        "        num_features_mutation_strength=0.25, # strength of random mutations for numerical features                      数值特征(numerical features)的随机变异强度\n",
        "        num_features_mutation_strength_decay=0.5, # decay for the hyper-param. above                                    数值特征(numerical features)的超参数的衰退率\n",
        "        num_features_mutation_strength_decay_generations=[10,15,20], # when to apply the decay                          什么节点应用上述的衰退率\n",
        "        ### other settings ###\n",
        "        verbose=True  # logs progress at every generation\n",
        ")"
      ]
    },
    {
      "cell_type": "markdown",
      "metadata": {
        "id": "PfjKfkb9uNAF"
      },
      "source": [
        "Ready to run!"
      ]
    },
    {
      "cell_type": "code",
      "execution_count": 9,
      "metadata": {
        "colab": {
          "base_uri": "https://localhost:8080/"
        },
        "id": "Af-wLnsPuNAG",
        "outputId": "fe1c51c0-bee8-4408-ebe9-c1317128f282"
      },
      "outputs": [
        {
          "name": "stdout",
          "output_type": "stream",
          "text": [
            "generation: 1 best fitness: -0.23960241235590057 avg. fitness: -0.5655859030567522\n",
            "generation: 2 best fitness: -0.23960241235590057 avg. fitness: -0.45144422711053095\n",
            "generation: 3 best fitness: -0.23960241235590057 avg. fitness: -0.3932625759375893\n",
            "generation: 4 best fitness: -0.18999766508484883 avg. fitness: -0.3424200187317699\n",
            "generation: 5 best fitness: -0.18999766508484883 avg. fitness: -0.29326014109826054\n",
            "generation: 6 best fitness: -0.10306974074439322 avg. fitness: -0.24382975966224887\n",
            "generation: 7 best fitness: -0.06996051106514789 avg. fitness: -0.1966318789656929\n",
            "generation: 8 best fitness: -0.059808815825190084 avg. fitness: -0.15648801037922425\n",
            "generation: 9 best fitness: -0.03346219281443785 avg. fitness: -0.12237121200700284\n",
            "generation: 10 best fitness: -0.029642499013702472 avg. fitness: -0.09555415482021212\n",
            "generation: 11 best fitness: -0.029642499013702472 avg. fitness: -0.0736235690606997\n",
            "generation: 12 best fitness: -0.029642499013702472 avg. fitness: -0.05854284736818094\n",
            "generation: 13 best fitness: -0.029642499013702472 avg. fitness: -0.046547369048175184\n",
            "generation: 14 best fitness: -0.029642499013702472 avg. fitness: -0.03997231228968589\n",
            "generation: 15 best fitness: -0.029642499013702472 avg. fitness: -0.035952275049771346\n",
            "generation: 16 best fitness: -0.029637374050308057 avg. fitness: -0.03372073074558145\n",
            "generation: 17 best fitness: -0.029637374050308057 avg. fitness: -0.03255322048135062\n",
            "generation: 18 best fitness: -0.029616365796527388 avg. fitness: -0.03200569502030889\n",
            "generation: 19 best fitness: -0.02961122525464162 avg. fitness: -0.03211885944499849\n",
            "generation: 20 best fitness: -0.02961122525464162 avg. fitness: -0.03209647434482432\n",
            "generation: 21 best fitness: -0.02961122525464162 avg. fitness: -0.031716957592190904\n",
            "generation: 22 best fitness: -0.02961122525464162 avg. fitness: -0.03144263058972952\n",
            "generation: 23 best fitness: -0.02961122525464162 avg. fitness: -0.03189248282843857\n",
            "generation: 24 best fitness: -0.029607941498829213 avg. fitness: -0.031491601489145066\n",
            "generation: 25 best fitness: -0.029607941498829213 avg. fitness: -0.03188161227227084\n"
          ]
        }
      ],
      "source": [
        "cogs.run()  # 运行cogs(Counterfactual Genetic Search)"
      ]
    },
    {
      "cell_type": "markdown",
      "metadata": {
        "id": "o89rjGA8uNAG"
      },
      "source": [
        "## Counterfactual explanation\n",
        "Now that CoGS has terminated, we can look at its result.\n",
        "The field `cogs.elite` contains the best-found counterfactual example, i.e., a point `x'` for which `bbm(x')=desired_class`.\n",
        "The respective counterfactual explanation is simply `x'-x` (there exist more involved definitions of counterfactual explanations, here we use this simple one).\n",
        "Let's take a look at what the user needs to do to obtain the desired class, i.e., be granted the loan."
      ]
    },
    {
      "cell_type": "code",
      "execution_count": 13,
      "metadata": {
        "colab": {
          "base_uri": "https://localhost:8080/"
        },
        "id": "AqOxGWuAuNAG",
        "outputId": "1f733e26-7d77-4d3a-e799-821f32ee0fea"
      },
      "outputs": [
        {
          "name": "stdout",
          "output_type": "stream",
          "text": [
            "[  48    0    8 3844    2    4    4    2    0    4    4   34    2    3\n",
            "    1    2    1    0    1]\n",
            "[4.80000000e+01 0.00000000e+00 8.00000000e+00 3.84400000e+03\n",
            " 2.50040711e+00 4.00000000e+00 4.00000000e+00 2.00000000e+00\n",
            " 0.00000000e+00 4.00000000e+00 4.00000000e+00 3.40000000e+01\n",
            " 2.00000000e+00 3.00000000e+00 1.00000000e+00 2.00000000e+00\n",
            " 1.00000000e+00 0.00000000e+00 1.00000000e+00]\n",
            "Success! Here's the explanation:\n",
            " Feature 'savings' should change from '2' to '2.5'\n"
          ]
        }
      ],
      "source": [
        "# categorical是pandas中对应分类变量的一种数据类型，与R中的因子型变量比较相似，例如性别、血型等等用于表征类别的变量都可以用其来表示.\n",
        "# 文档 https://pandas.pydata.org/pandas-docs/stable/user_guide/categorical.html\n",
        "from pandas.core.arrays import categorical  # 导入categorical\n",
        "# Get the best-found counterfactual example (called elite)  获取最佳反事实实例\n",
        "cf_example = cogs.elite               # 获取 the best-found counterfactual example,\n",
        "cf_explanation = cogs.elite - x       # The respective counterfactual explanation is simply `x'-x`\n",
        "# print(x)\n",
        "# print(cf_example)\n",
        "\n",
        "# Show counterfactual explanation\n",
        "if bbm.predict([cf_example])[0] == desired_class:   # 如果预测的结果为desired_class\n",
        "  print(\"Success! Here's the explanation:\")\n",
        "  for i, feat in enumerate(feature_names):      # 遍历特征\n",
        "    if cf_explanation[i] != 0:                  # 如果某一特征序号下存储的值不为0\n",
        "      print(\" Feature '{}' should change from '{}' to '{}'\".format(feat, np.round(x[i],3), np.round(cf_example[i],3)))  # 打印该特征的名称、原来的值和目标值\n",
        "else:\n",
        "  print(\"Failed to find a counterfactual explanation for the desired class :(\")"
      ]
    },
    {
      "cell_type": "markdown",
      "metadata": {
        "id": "Nc8OEQUMy15q"
      },
      "source": [
        "# Exercise idea\n",
        "Here's an idea for an exercise.\n",
        "One of the features is called `foreign_worker`. This may be considered a sensitive feature: should $f$ be allowed to discriminate based only on that?\n",
        "\n",
        "Try to use CoGS to search whether a CE can be found for (one or more) `x` who is a foreign worker and for whom `bbm` says `high risk`, that recommends not to be a foreign worker.\n",
        "To do that, you can set the plausibility constraints to \"`=`\" for all features except for `foreign_worker`."
      ]
    }
  ],
  "metadata": {
    "colab": {
      "provenance": []
    },
    "interpreter": {
      "hash": "82b2f7e49a54dfc9e19a85f649bd0ef29fcdbc801e6c42932c693ea93cc5c6ab"
    },
    "kernelspec": {
      "display_name": "Python 3.9.7 64-bit ('base': conda)",
      "language": "python",
      "name": "python3"
    },
    "language_info": {
      "codemirror_mode": {
        "name": "ipython",
        "version": 3
      },
      "file_extension": ".py",
      "mimetype": "text/x-python",
      "name": "python",
      "nbconvert_exporter": "python",
      "pygments_lexer": "ipython3",
      "version": "3.12.3"
    },
    "orig_nbformat": 4
  },
  "nbformat": 4,
  "nbformat_minor": 0
}
