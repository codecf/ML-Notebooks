{
 "cells": [
  {
   "cell_type": "markdown",
   "metadata": {},
   "source": [
    "## Introduction to GNNs with PyTorch Geometric\n",
    "\n",
    "In this short notebook, the goal is to provide a introductory guide to get started with Graph Neural Networks using the popular library called [PyTorch Geometric](https://pytorch-geometric.readthedocs.io/en/latest/index.html). PyTorch Geometric is a PyTorch based libary hence we will be using PyTorch in this tutorial. \n",
    "\n",
    "The code used in this tutorial has been adapted from their official [examples](https://pytorch-geometric.readthedocs.io/en/latest/notes/introduction.html). I have incorporated a bit more beginner-friendly guidance and kept it minimal."
   ]
  },
  {
   "cell_type": "code",
   "execution_count": 1,
   "metadata": {},
   "outputs": [
    {
     "name": "stdout",
     "output_type": "stream",
     "text": [
      "None\n"
     ]
    }
   ],
   "source": [
    "# Find the CUDA version PyTorch was installed with\n",
    "!python -c \"import torch; print(torch.version.cuda)\""
   ]
  },
  {
   "cell_type": "code",
   "execution_count": 2,
   "metadata": {},
   "outputs": [
    {
     "name": "stdout",
     "output_type": "stream",
     "text": [
      "2.3.0+cpu\n"
     ]
    }
   ],
   "source": [
    "# PyTorch version\n",
    "!python -c \"import torch; print(torch.__version__)\""
   ]
  },
  {
   "cell_type": "markdown",
   "metadata": {},
   "source": [
    "Install the follow packages but make sure to \n",
    "\n",
    "---\n",
    "\n",
    "install the right version below. Find more instructions [here](https://pytorch-geometric.readthedocs.io/en/latest/notes/installation.html) if you get lost. "
   ]
  },
  {
   "cell_type": "code",
   "execution_count": 3,
   "metadata": {},
   "outputs": [
    {
     "name": "stdout",
     "output_type": "stream",
     "text": [
      "Looking in indexes: https://pypi.tuna.tsinghua.edu.cn/simple\n",
      "Looking in links: https://data.pyg.org/whl/torch-1.11.0.html\n",
      "Requirement already satisfied: torch-scatter in c:\\users\\25627\\appdata\\local\\programs\\python\\python312\\lib\\site-packages (2.1.2+pt23cpu)\n"
     ]
    }
   ],
   "source": [
    "!pip install torch-scatter -f https://data.pyg.org/whl/torch-1.11.0.html"
   ]
  },
  {
   "cell_type": "code",
   "execution_count": 2,
   "metadata": {},
   "outputs": [
    {
     "name": "stdout",
     "output_type": "stream",
     "text": [
      "Looking in indexes: https://pypi.tuna.tsinghua.edu.cn/simple\n",
      "Looking in links: https://data.pyg.org/whl/torch-1.11.0.html\n",
      "Requirement already satisfied: torch-sparse in c:\\users\\25627\\appdata\\local\\programs\\python\\python312\\lib\\site-packages (0.6.18+pt23cpu)\n",
      "Requirement already satisfied: scipy in c:\\users\\25627\\appdata\\local\\programs\\python\\python312\\lib\\site-packages (from torch-sparse) (1.13.1)\n",
      "Requirement already satisfied: numpy<2.3,>=1.22.4 in c:\\users\\25627\\appdata\\local\\programs\\python\\python312\\lib\\site-packages (from scipy->torch-sparse) (1.26.4)\n",
      "Note: you may need to restart the kernel to use updated packages.\n"
     ]
    }
   ],
   "source": [
    "!pip install torch-sparse -f https://data.pyg.org/whl/torch-1.11.0.html"
   ]
  },
  {
   "cell_type": "code",
   "execution_count": 5,
   "metadata": {},
   "outputs": [
    {
     "name": "stdout",
     "output_type": "stream",
     "text": [
      "Looking in indexes: https://pypi.tuna.tsinghua.edu.cn/simple\n",
      "Requirement already satisfied: torch-geometric in c:\\users\\25627\\appdata\\local\\programs\\python\\python312\\lib\\site-packages (2.5.3)\n",
      "Requirement already satisfied: tqdm in c:\\users\\25627\\appdata\\local\\programs\\python\\python312\\lib\\site-packages (from torch-geometric) (4.66.4)\n",
      "Requirement already satisfied: numpy in c:\\users\\25627\\appdata\\local\\programs\\python\\python312\\lib\\site-packages (from torch-geometric) (1.26.4)\n",
      "Requirement already satisfied: scipy in c:\\users\\25627\\appdata\\local\\programs\\python\\python312\\lib\\site-packages (from torch-geometric) (1.13.1)\n",
      "Requirement already satisfied: fsspec in c:\\users\\25627\\appdata\\local\\programs\\python\\python312\\lib\\site-packages (from torch-geometric) (2024.5.0)\n",
      "Requirement already satisfied: jinja2 in c:\\users\\25627\\appdata\\local\\programs\\python\\python312\\lib\\site-packages (from torch-geometric) (3.1.4)\n",
      "Requirement already satisfied: aiohttp in c:\\users\\25627\\appdata\\local\\programs\\python\\python312\\lib\\site-packages (from torch-geometric) (3.9.5)\n",
      "Requirement already satisfied: requests in c:\\users\\25627\\appdata\\local\\programs\\python\\python312\\lib\\site-packages (from torch-geometric) (2.32.2)\n",
      "Requirement already satisfied: pyparsing in c:\\users\\25627\\appdata\\local\\programs\\python\\python312\\lib\\site-packages (from torch-geometric) (3.1.2)\n",
      "Requirement already satisfied: scikit-learn in c:\\users\\25627\\appdata\\local\\programs\\python\\python312\\lib\\site-packages (from torch-geometric) (1.5.0)\n",
      "Requirement already satisfied: psutil>=5.8.0 in c:\\users\\25627\\appdata\\roaming\\python\\python312\\site-packages (from torch-geometric) (5.9.8)\n",
      "Requirement already satisfied: aiosignal>=1.1.2 in c:\\users\\25627\\appdata\\local\\programs\\python\\python312\\lib\\site-packages (from aiohttp->torch-geometric) (1.3.1)\n",
      "Requirement already satisfied: attrs>=17.3.0 in c:\\users\\25627\\appdata\\local\\programs\\python\\python312\\lib\\site-packages (from aiohttp->torch-geometric) (23.2.0)\n",
      "Requirement already satisfied: frozenlist>=1.1.1 in c:\\users\\25627\\appdata\\local\\programs\\python\\python312\\lib\\site-packages (from aiohttp->torch-geometric) (1.4.1)\n",
      "Requirement already satisfied: multidict<7.0,>=4.5 in c:\\users\\25627\\appdata\\local\\programs\\python\\python312\\lib\\site-packages (from aiohttp->torch-geometric) (6.0.5)\n",
      "Requirement already satisfied: yarl<2.0,>=1.0 in c:\\users\\25627\\appdata\\local\\programs\\python\\python312\\lib\\site-packages (from aiohttp->torch-geometric) (1.9.4)\n",
      "Requirement already satisfied: MarkupSafe>=2.0 in c:\\users\\25627\\appdata\\local\\programs\\python\\python312\\lib\\site-packages (from jinja2->torch-geometric) (2.1.5)\n",
      "Requirement already satisfied: charset-normalizer<4,>=2 in c:\\users\\25627\\appdata\\local\\programs\\python\\python312\\lib\\site-packages (from requests->torch-geometric) (3.3.2)\n",
      "Requirement already satisfied: idna<4,>=2.5 in c:\\users\\25627\\appdata\\local\\programs\\python\\python312\\lib\\site-packages (from requests->torch-geometric) (3.7)\n",
      "Requirement already satisfied: urllib3<3,>=1.21.1 in c:\\users\\25627\\appdata\\local\\programs\\python\\python312\\lib\\site-packages (from requests->torch-geometric) (2.2.1)\n",
      "Requirement already satisfied: certifi>=2017.4.17 in c:\\users\\25627\\appdata\\local\\programs\\python\\python312\\lib\\site-packages (from requests->torch-geometric) (2024.2.2)\n",
      "Requirement already satisfied: joblib>=1.2.0 in c:\\users\\25627\\appdata\\local\\programs\\python\\python312\\lib\\site-packages (from scikit-learn->torch-geometric) (1.4.2)\n",
      "Requirement already satisfied: threadpoolctl>=3.1.0 in c:\\users\\25627\\appdata\\local\\programs\\python\\python312\\lib\\site-packages (from scikit-learn->torch-geometric) (3.5.0)\n",
      "Requirement already satisfied: colorama in c:\\users\\25627\\appdata\\roaming\\python\\python312\\site-packages (from tqdm->torch-geometric) (0.4.6)\n"
     ]
    }
   ],
   "source": [
    "!pip install torch-geometric"
   ]
  },
  {
   "cell_type": "markdown",
   "metadata": {},
   "source": [
    "## Getting Started\n",
    "\n",
    "Import PyTorch"
   ]
  },
  {
   "cell_type": "code",
   "execution_count": 1,
   "metadata": {},
   "outputs": [
    {
     "name": "stdout",
     "output_type": "stream",
     "text": [
      "2.3.0+cpu\n"
     ]
    }
   ],
   "source": [
    "# 包 torch 包含了多维张量的数据结构以及基于其上的多种数学操作。另外，它也提供了多种工具，其中一些可以更有效地对张量和任意类型进行序列化。\n",
    "import torch\n",
    "\n",
    "# print torch version\n",
    "print(torch.__version__)"
   ]
  },
  {
   "cell_type": "markdown",
   "metadata": {},
   "source": [
    "The great thing about PyTorch Geometric is that it contain useful functionalities to import and load graph related data.   \n",
    "PyTorch Geometric最好的事情是它包含了对于导入和加载图相关数据有用的功能。"
   ]
  },
  {
   "cell_type": "code",
   "execution_count": 4,
   "metadata": {},
   "outputs": [
    {
     "data": {
      "text/plain": [
       "'\\n    PyG(PyTorch Geometric Library) 提供了torch_geometric.data.Data (下面简称Data) 用于构建图，包括 5 个属性，每一个属性都不是必须的，可以为空。\\n        x: 用于存储每个节点的特征，形状是[num_nodes, num_node_features]。\\n        edge_index: 用于存储节点之间的边，形状是 [2, num_edges]。\\n        pos: 存储节点的坐标，形状是[num_nodes, num_dimensions]。\\n        y: 存储样本标签。如果是每个节点都有标签，那么形状是[num_nodes, *]；如果是整张图只有一个标签，那么形状是[1, *]。\\n        edge_attr: 存储边的特征。形状是[num_edges, num_edge_features]。\\n    实际上, Data对象不仅仅限制于这些属性, 我们可以通过data.face来扩展Data, 以张量保存三维网格中三角形的连接性。\\n        需要注意的的是, 在Data里包含了样本的 label, 这意味和 PyTorch 稍有不同。\\n        在PyTorch中, 我们重写Dataset的__getitem__()，根据 index 返回对应的样本和 label。\\n        在 PyG 中,我们使用的不是这种写法，而是在get()函数中根据 index 返回torch_geometric.data.Data类型的数据,在Data里包含了数据和 label。\\n'"
      ]
     },
     "execution_count": 4,
     "metadata": {},
     "output_type": "execute_result"
    }
   ],
   "source": [
    "from torch_geometric.data import Data\n",
    "'''\n",
    "    PyG(PyTorch Geometric Library) 提供了torch_geometric.data.Data (下面简称Data) 用于构建图，包括 5 个属性，每一个属性都不是必须的，可以为空。\n",
    "        x: 用于存储每个节点的特征，形状是[num_nodes, num_node_features]。\n",
    "        edge_index: 用于存储节点之间的边，形状是 [2, num_edges]。\n",
    "        pos: 存储节点的坐标，形状是[num_nodes, num_dimensions]。\n",
    "        y: 存储样本标签。如果是每个节点都有标签，那么形状是[num_nodes, *]；如果是整张图只有一个标签，那么形状是[1, *]。\n",
    "        edge_attr: 存储边的特征。形状是[num_edges, num_edge_features]。\n",
    "    实际上, Data对象不仅仅限制于这些属性, 我们可以通过data.face来扩展Data, 以张量保存三维网格中三角形的连接性。\n",
    "        需要注意的的是, 在Data里包含了样本的 label, 这意味和 PyTorch 稍有不同。\n",
    "        在PyTorch中, 我们重写Dataset的__getitem__()，根据 index 返回对应的样本和 label。\n",
    "        在 PyG 中,我们使用的不是这种写法，而是在get()函数中根据 index 返回torch_geometric.data.Data类型的数据,在Data里包含了数据和 label。\n",
    "'''"
   ]
  },
  {
   "cell_type": "markdown",
   "metadata": {},
   "source": [
    "Now let's create an unweighted and undirected graph with three nodes and four total edges."
   ]
  },
  {
   "cell_type": "code",
   "execution_count": 7,
   "metadata": {},
   "outputs": [
    {
     "name": "stdout",
     "output_type": "stream",
     "text": [
      "Data(x=[3, 1], edge_index=[2, 4])\n"
     ]
    }
   ],
   "source": [
    "# torch.Tensor是一种包含单一数据类型元素的多维矩阵。\n",
    "# define edge list\n",
    "edge_index = torch.tensor([[0, 1, 1, 2], [1, 0, 2, 1]], dtype=torch.long)  # four total edges 第一个list是起始边，第二个list是目标边。 0->1, 1->0, 1->2, 2->1\n",
    "# print(edge_index)\n",
    "# define node features\n",
    "x = torch.tensor([[-1], [0], [1]])  # 三个点\n",
    "# print(x)\n",
    "# create graph data object\n",
    "'''\n",
    "    x:          用于存储每个节点的特征，形状是[num_nodes, num_node_features];\n",
    "    edge_index: 用于存储节点之间的边，形状是 [2, num_edges](使用稀疏的方式存储边关系（(edge_index中边的存储方式,有两个list,第 1 个list是边的起始点,第 2 个list是边的目标节点));\n",
    "    pos:        存储节点的坐标，形状是[num_nodes, num_dimensions]\n",
    "    y:          存储样本标签。如果是每个节点都有标签，那么形状是[num_nodes, *]；如果是整张图只有一个标签，那么形状是[1, *];\n",
    "    edge_attr:  存储边的特征。形状是[num_edges, num_edge_features];\n",
    "'''\n",
    "data = Data(x=x, edge_index=edge_index)\n",
    "print(data)"
   ]
  },
  {
   "cell_type": "markdown",
   "metadata": {},
   "source": [
    "Our data object `Data` has many useful utility functions to check the properties of the graph. "
   ]
  },
  {
   "cell_type": "code",
   "execution_count": 8,
   "metadata": {},
   "outputs": [
    {
     "name": "stdout",
     "output_type": "stream",
     "text": [
      "4\n"
     ]
    }
   ],
   "source": [
    "# check number of edges of the graph\n",
    "print(data.num_edges)   # 边的数目"
   ]
  },
  {
   "cell_type": "code",
   "execution_count": 11,
   "metadata": {},
   "outputs": [
    {
     "name": "stdout",
     "output_type": "stream",
     "text": [
      "3\n"
     ]
    }
   ],
   "source": [
    "# check number of nodes of the graph\n",
    "print(data.num_nodes)   # 几个顶点"
   ]
  },
  {
   "cell_type": "code",
   "execution_count": 19,
   "metadata": {},
   "outputs": [
    {
     "name": "stdout",
     "output_type": "stream",
     "text": [
      "1\n"
     ]
    }
   ],
   "source": [
    "# check number of features of the graph\n",
    "print(data.num_features)    # 图的特征"
   ]
  },
  {
   "cell_type": "code",
   "execution_count": 20,
   "metadata": {},
   "outputs": [
    {
     "name": "stdout",
     "output_type": "stream",
     "text": [
      "False\n"
     ]
    }
   ],
   "source": [
    "# check if graph is directed\n",
    "print(data.is_directed())   # 是否是有向图"
   ]
  },
  {
   "cell_type": "markdown",
   "metadata": {},
   "source": [
    "## Loading Data\n",
    "\n",
    "Find more fun functions related to graph data [here](https://pytorch-geometric.readthedocs.io/en/latest/modules/data.html#torch_geometric.data.Data). \n",
    "\n",
    "One of the cool things about the PyTorch Geometric library is that it contains out-of-the-box benchmark datasets that are ready to use and explore. A popular dataset is the Cora dataset that is used for supervised graph node classification. (We will talk about these applications in an upcoming tutorial but for now we will focus on the data itself).\n",
    "\n",
    "\"The Cora dataset consists of 2708 scientific publications classified into one of seven classes. The citation network consists of 5429 links. Each publication in the dataset is described by a 0/1-valued word vector indicating the absence/presence of the corresponding word from the dictionary. The dictionary consists of 1433 unique words.\" - [Papers with Code](https://paperswithcode.com/dataset/cora).\n",
    "\n",
    "_out-of-the-box benchmark datasets：开箱即用的基准数据集  \n",
    "Cora dataset：用于研究监督图节点分类。2708片文章分为7类，5429条引用，dictionary为1433个唯一word的向量，用0/1标识是否存在改word_\n",
    "\n",
    "Let's load the Cora dataset:"
   ]
  },
  {
   "cell_type": "code",
   "execution_count": 13,
   "metadata": {},
   "outputs": [],
   "source": [
    "# Planetoid是 torch_geometric.datasets中的一个类。利用Planetoid类可以处理三个数据集，分别为“Cora”、“CiteSeer”和“PubMed”。\n",
    "# 这三个数据集是“Revisiting Semi-Supervised Learning with Graph Embeddings”论文中的引文网络数据集。节点代表文档，边代表引用链接。训练集、验证集和测试集的划分由二进制掩码(binary masks)给出。\n",
    "from torch_geometric.datasets import Planetoid\n",
    "# CLASS Planetoid(root: str, name: str, split: str = 'public', num_train_per_class: int = 20, num_val: int = 500, num_test: int = 1000, transform: Optional[Callable] = None, pre_transform: Optional[Callable] = None)\n",
    "# root:     (str)，数据集的来源；可以是本地文件，如果是一个项目文件夹中不存在的地址，程序将会新建文件夹，将数据集下载后保存到文件中。\n",
    "# name:     （str）数据集的名字；可以为'Cora','CiteSeer','PubMed'\n",
    "# split：  （str）选择划分方式；可以为(\"public\", \"full\", \"random\")默认值为'public'。如果设置为\"public\"，则拆分将是 “Revisiting Semi-Supervised Learning with Graph Embeddings“论文中的公共固定拆分。如果设置为\"full\"，则除了验证集和测试集中的节点之外的所有节点都将用于训练（如 “FastGCN: Fast Learning with Graph Convolutional Networks via Importance Sampling”论文中所述）。如果设置为\"random\"，则训练、验证和测试集将根据 num_val和 num_train_per_class,num_test生成 。\n",
    "# num_train_per_class：每一个类中的训练样本数量，默认值20\n",
    "# num_val ：        验证集的样本数量，默认值500\n",
    "# num_test ：       测试集的样本数量，默认值1000\n",
    "# 数据类型：        torch_geometric.datasets.planetoid.Planetoid\n",
    "dataset = Planetoid(root='tmp/Cora', name='Cora')"
   ]
  },
  {
   "cell_type": "markdown",
   "metadata": {},
   "source": [
    "Let's check some of the properties of the Cora dataset."
   ]
  },
  {
   "cell_type": "code",
   "execution_count": 15,
   "metadata": {},
   "outputs": [
    {
     "name": "stdout",
     "output_type": "stream",
     "text": [
      "Number of graphs:  1\n",
      "Number of features:  1433\n",
      "Number of classes:  7\n"
     ]
    }
   ],
   "source": [
    "# number of graphs\n",
    "print(\"Number of graphs: \", len(dataset))   # 数据集数量\n",
    "\n",
    "# number of features\n",
    "print(\"Number of features: \", dataset.num_features) # 特征\n",
    "\n",
    "# number of classes\n",
    "print(\"Number of classes: \", dataset.num_classes)   #类别"
   ]
  },
  {
   "cell_type": "markdown",
   "metadata": {},
   "source": [
    "We can see that this particular graph dataset only contains one graph. Graph data can be very complex and can include multiple graphs depending on the type of data and application. Let's check more feature of the Cora dataset:"
   ]
  },
  {
   "cell_type": "code",
   "execution_count": 17,
   "metadata": {},
   "outputs": [
    {
     "name": "stdout",
     "output_type": "stream",
     "text": [
      "Number of nodes:  2708\n",
      "Number of edges:  10556\n",
      "Is directed:  False\n"
     ]
    }
   ],
   "source": [
    "# select the first graph\n",
    "data = dataset[0]   # 选择第一个图\n",
    "\n",
    "# number of nodes\n",
    "print(\"Number of nodes: \", data.num_nodes)  # 顶点数\n",
    "\n",
    "# number of edges\n",
    "print(\"Number of edges: \", data.num_edges)  # 边数\n",
    "\n",
    "# check if directed\n",
    "print(\"Is directed: \", data.is_directed())  # 是否为有向图"
   ]
  },
  {
   "cell_type": "markdown",
   "metadata": {},
   "source": [
    "You can sample nodes from the graph this way:"
   ]
  },
  {
   "cell_type": "code",
   "execution_count": 23,
   "metadata": {},
   "outputs": [
    {
     "name": "stdout",
     "output_type": "stream",
     "text": [
      "Shape of sample nodes:  torch.Size([5, 1433])\n"
     ]
    }
   ],
   "source": [
    "# sample nodes from the graph\n",
    "# 参见torch_geometric.data.Data数据集--x:用于存储每个节点的特征，形状是[num_nodes, num_node_features];\n",
    "print(\"Shape of sample nodes: \", data.x[:5].shape)  # We extracted 5 nodes from the graph and checked its shape. You will see that each node has `1433` features."
   ]
  },
  {
   "cell_type": "markdown",
   "metadata": {},
   "source": [
    "We extracted 5 nodes from the graph and checked its shape. You will see that each node has `1433` features.\n",
    "\n",
    "Another great advantage of using PyTorch Geometric to load the Cora data is that it comes pre-processed and ready to use. It also has the splits for training, validation and test which we can directly use for training a GNN.\n",
    "\n",
    "Let's check some stats for the partitions of the data:"
   ]
  },
  {
   "cell_type": "code",
   "execution_count": 25,
   "metadata": {},
   "outputs": [
    {
     "name": "stdout",
     "output_type": "stream",
     "text": [
      "# of nodes to train on:  140\n",
      "# of nodes to test on:  1000\n",
      "# of nodes to validate on:  500\n"
     ]
    }
   ],
   "source": [
    "# check training nodes\n",
    "print(\"# of nodes to train on: \", data.train_mask.sum().item()) # 训练集节点数\n",
    "\n",
    "# check test nodes\n",
    "print(\"# of nodes to test on: \", data.test_mask.sum().item())   # 测试集节点数\n",
    "\n",
    "# check validation nodes\n",
    "print(\"# of nodes to validate on: \", data.val_mask.sum().item())    # 验证集节点数"
   ]
  },
  {
   "cell_type": "markdown",
   "metadata": {},
   "source": [
    "That information is important as it will indicate to our model which nodes to train against and which to test against, and so on.\n",
    "\n",
    "When training neural networks we train them using batches of data. PyTorch Geometric provides efficient processes to load batches of data.\n",
    "\n",
    "PyTorch Geometric contains a data loader which is a very popular feature in PyTorch to efficiently load data when training neural networks.\n",
    " \n",
    "So let's try to load the data using the built in `DataLoader`:\n",
    "\n",
    "*data loader:数据加载器，训练神经网络时批量加载数据*\n"
   ]
  },
  {
   "cell_type": "code",
   "execution_count": 29,
   "metadata": {},
   "outputs": [],
   "source": [
    "from torch_geometric.datasets import Planetoid\n",
    "from torch_geometric.loader import DataLoader\n",
    "device = torch.device('cuda' if torch.cuda.is_available() else 'cpu')   # torch.device代表将torch.Tensor分配到的设备的对象。"
   ]
  },
  {
   "cell_type": "code",
   "execution_count": 55,
   "metadata": {},
   "outputs": [
    {
     "name": "stdout",
     "output_type": "stream",
     "text": [
      "cpu\n"
     ]
    }
   ],
   "source": [
    "print(device)"
   ]
  },
  {
   "cell_type": "code",
   "execution_count": 30,
   "metadata": {},
   "outputs": [],
   "source": [
    "dataset = Planetoid(root='tmp/Cora', name='Cora')\n",
    "data = dataset[0].to(device)    # to(device)方法可以将张量移动到指定的设备"
   ]
  },
  {
   "cell_type": "markdown",
   "metadata": {},
   "source": [
    "Print some quick statistics about the data:"
   ]
  },
  {
   "cell_type": "code",
   "execution_count": 32,
   "metadata": {},
   "outputs": [
    {
     "name": "stdout",
     "output_type": "stream",
     "text": [
      "X shape:  torch.Size([2708, 1433])\n",
      "Edge shape:  torch.Size([2, 10556])\n",
      "Y shape:  torch.Size([2708])\n"
     ]
    }
   ],
   "source": [
    "'''\n",
    "    x:          用于存储每个节点的特征，形状是[num_nodes, num_node_features];\n",
    "    edge_index: 用于存储节点之间的边，形状是 [2, num_edges](使用稀疏的方式存储边关系（(edge_index中边的存储方式,有两个list,第 1 个list是边的起始点,第 2 个list是边的目标节点));\n",
    "    pos:        存储节点的坐标，形状是[num_nodes, num_dimensions]\n",
    "    y:          存储样本标签。如果是每个节点都有标签，那么形状是[num_nodes, *]；如果是整张图只有一个标签，那么形状是[1, *];\n",
    "    edge_attr:  存储边的特征。形状是[num_edges, num_edge_features];\n",
    "'''\n",
    "print(\"X shape: \", data.x.shape)\n",
    "print(\"Edge shape: \", data.edge_index.shape)\n",
    "print(\"Y shape: \", data.y.shape)"
   ]
  },
  {
   "cell_type": "markdown",
   "metadata": {},
   "source": [
    "## Model and Training\n",
    "\n",
    "Finally, let's define a standard GCN to train on the Cora dataset. The aim is to train a model that gets better at predicting the class of the node.\n",
    "\n",
    "To keep thins simple we will use the same model definition as used in the [tutorial](https://pytorch-geometric.readthedocs.io/en/latest/notes/introduction.html) we adpated the code from. Note that we are using the built-in `GCNConv` model but you could easily implement your own (something we will cover in a future tutorial). \n",
    "\n",
    "The model below uses two `GCNConv` layers. The first layer is followed by a non-linearity `ReLU` and `Dropout`. The result is fed to the second layer on top of which we apply `Softmax` to get distribution over the number of classes.\n",
    "\n",
    "*GCN：图卷积网络(Graph Convolutional Networks)*"
   ]
  },
  {
   "cell_type": "code",
   "execution_count": 40,
   "metadata": {},
   "outputs": [],
   "source": [
    "# 可参考 https://blog.csdn.net/weixin_51976215/article/details/136767850\n",
    "# nn.functional 是PyTorch中一个重要的模块，它包含了许多用于构建神经网络的函数。与nn.Module 不同，nn.functional 中的函数不具有可学习的参数。这些函数通常用于执行各种非线性操作、损失函数、激活函数等。\n",
    "import torch.nn.functional as F\n",
    "from torch_geometric.nn import GCNConv  # we are using the built-in `GCNConv` model\n",
    "\n",
    "class GCN(torch.nn.Module):\n",
    "    def __init__(self):\n",
    "        super().__init__()\n",
    "        \"\"\" GCNConv layers \"\"\"\n",
    "        self.conv1 = GCNConv(data.num_features, 16) # 创建第一个特征图层；输入维度为数据节点特征维度，输出特征维度为16\n",
    "        self.conv2 = GCNConv(16, dataset.num_classes)   # 创建第二个特征图层；输入维度为16，输出特征维度为数据集类别数目\n",
    "\n",
    "    def forward(self, data):    # 定义前向传播函数\n",
    "        x, edge_index = data.x, data.edge_index # 从data参数中获取节点特征和边索引\n",
    "        x = self.conv1(x, edge_index)   # 通过第一个图卷积层处理节点特征\n",
    "        x = F.relu(x)   # 对输出进行ReLU激活函数操作\n",
    "        x = F.dropout(x, training=self.training)    # 对输出进行Dropout操作，用于防止过拟合\n",
    "        x = self.conv2(x, edge_index)   # 通过第二个图卷积层处理节点特征\n",
    "\n",
    "        return F.log_softmax(x, dim=1)  # 对输出进行LogSoftmax操作，得到预测结果"
   ]
  },
  {
   "cell_type": "markdown",
   "metadata": {},
   "source": [
    "Initial model and optimizer--初始化模型和优化器"
   ]
  },
  {
   "cell_type": "code",
   "execution_count": 35,
   "metadata": {},
   "outputs": [],
   "source": [
    "model = GCN().to(device)    # 实例化GCN类，并移动到对应设备\n",
    "optimizer = torch.optim.Adam(model.parameters(), lr=0.01, weight_decay=5e-4)    # 定义Adam优化器"
   ]
  },
  {
   "cell_type": "markdown",
   "metadata": {},
   "source": [
    "Define accuracy function for evaluating performance:--定义评估性能的accuracy function"
   ]
  },
  {
   "cell_type": "code",
   "execution_count": 42,
   "metadata": {},
   "outputs": [],
   "source": [
    "# useful function for computing accuracy\n",
    "def compute_accuracy(pred_y, y):\n",
    "    return (pred_y == y).sum()  # 计算相等的元素个数"
   ]
  },
  {
   "cell_type": "markdown",
   "metadata": {},
   "source": [
    "And finally we train the model on the trainin nodes for 200 epochs:"
   ]
  },
  {
   "cell_type": "code",
   "execution_count": 54,
   "metadata": {},
   "outputs": [
    {
     "name": "stdout",
     "output_type": "stream",
     "text": [
      "Epoch: 10, Loss: 0.0169, Training Acc: 1.0000\n",
      "Epoch: 20, Loss: 0.0127, Training Acc: 1.0000\n",
      "Epoch: 30, Loss: 0.0205, Training Acc: 1.0000\n",
      "Epoch: 40, Loss: 0.0132, Training Acc: 1.0000\n",
      "Epoch: 50, Loss: 0.0127, Training Acc: 1.0000\n",
      "Epoch: 60, Loss: 0.0181, Training Acc: 0.9929\n",
      "Epoch: 70, Loss: 0.0200, Training Acc: 1.0000\n",
      "Epoch: 80, Loss: 0.0229, Training Acc: 1.0000\n",
      "Epoch: 90, Loss: 0.0177, Training Acc: 1.0000\n",
      "Epoch: 100, Loss: 0.0167, Training Acc: 1.0000\n",
      "Epoch: 110, Loss: 0.0116, Training Acc: 1.0000\n",
      "Epoch: 120, Loss: 0.0212, Training Acc: 0.9929\n",
      "Epoch: 130, Loss: 0.0166, Training Acc: 1.0000\n",
      "Epoch: 140, Loss: 0.0107, Training Acc: 1.0000\n",
      "Epoch: 150, Loss: 0.0115, Training Acc: 1.0000\n",
      "Epoch: 160, Loss: 0.0130, Training Acc: 1.0000\n",
      "Epoch: 170, Loss: 0.0132, Training Acc: 1.0000\n",
      "Epoch: 180, Loss: 0.0166, Training Acc: 1.0000\n",
      "Epoch: 190, Loss: 0.0222, Training Acc: 1.0000\n",
      "Epoch: 200, Loss: 0.0318, Training Acc: 0.9929\n"
     ]
    }
   ],
   "source": [
    "# train the model\n",
    "model.train()   # 将模型设置为训练模式\n",
    "losses = []\n",
    "accuracies = []\n",
    "for epoch in range(200):    # 进行训练循环，共200个epoch\n",
    "    optimizer.zero_grad()   # 梯度清零\n",
    "    out = model(data)   # 前向传播，得到模型输出\n",
    "\n",
    "    loss = F.nll_loss(out[data.train_mask], data.y[data.train_mask])    # 计算损失，使用负对数似然损失函数   \n",
    "    # （1）torch.argmax(input, dim=None, keepdim=False)返回指定维度最大值的序号；\n",
    "    # （2）dim给定的定义是：the demention to reduce.也就是把dim这个维度的，变成这个维度的最大值的index。\n",
    "    correct = compute_accuracy(out.argmax(dim=1)[data.train_mask], data.y[data.train_mask]) # 计算分类正确的个数\n",
    "    acc = int(correct) / int(data.train_mask.sum()) # 计算准确率，分类正确的个数/训练标记的总数\n",
    "    losses.append(loss.item())  # 添加到losses列表末尾\n",
    "    accuracies.append(acc)  # 添加到accuracies列表末尾\n",
    "\n",
    "    loss.backward() # 反向传播计算梯度\n",
    "    optimizer.step()    # 更新模型参数\n",
    "    if (epoch+1) % 10 == 0: # 每10 epoch 打印一次对应的损失和准确率\n",
    "        print('Epoch: {}, Loss: {:.4f}, Training Acc: {:.4f}'.format(epoch+1, loss.item(), acc))\n",
    "        # if (epoch+1) == 10:\n",
    "        #     print(out)\n",
    "        #     print(len(out)) # 2708\n",
    "        #     print(out.argmax(dim=1))\n",
    "        #     print(data.train_mask)\n",
    "        #     print(out.argmax(dim=1)[data.train_mask])\n",
    "        #     print(len(data))\n",
    "        #     print(data)\n",
    "        #     print(data.y)\n",
    "        #     print(data.y[data.train_mask])\n",
    "        #     print(data.train_mask.sum())\n"
   ]
  },
  {
   "cell_type": "code",
   "execution_count": 38,
   "metadata": {},
   "outputs": [
    {
     "data": {
      "image/png": "[encoded data removed]",
      "text/plain": [
       "<Figure size 640x480 with 1 Axes>"
      ]
     },
     "metadata": {},
     "output_type": "display_data"
    }
   ],
   "source": [
    "# plot the loss and accuracy\n",
    "import matplotlib.pyplot as plt\n",
    "plt.plot(losses)    # 画出loss曲线\n",
    "plt.plot(accuracies)    # 画出Accuracy曲线\n",
    "plt.legend(['Loss', 'Accuracy'])\n",
    "plt.show()"
   ]
  },
  {
   "cell_type": "markdown",
   "metadata": {},
   "source": [
    "It looks like the model achieves a very high accuracy and small loss on the training dataset. To see how well it generalizes, let's test on the testing nodes:"
   ]
  },
  {
   "cell_type": "code",
   "execution_count": 29,
   "metadata": {},
   "outputs": [
    {
     "name": "stdout",
     "output_type": "stream",
     "text": [
      "Accuracy: 0.8010\n"
     ]
    }
   ],
   "source": [
    "# evaluate the model on test set\n",
    "model.eval()    # 将模型设置为评估模式\n",
    "pred = model(data).argmax(dim=1)    # 进行预测，并预测结果的最大值作为预测类别\n",
    "correct = compute_accuracy(pred[data.test_mask], data.y[data.test_mask])    # 计算预测正确的数量\n",
    "acc = int(correct) / int(data.test_mask.sum())  # 计算准确率\n",
    "print(f'Accuracy: {acc:.4f}')"
   ]
  },
  {
   "cell_type": "markdown",
   "metadata": {},
   "source": [
    "Very cool! It seems we got a very nice accuracy for the test as well. Our model is doing okay. There are many ways you can go about trying to improve this model, but we will keep that for another time. Hopefully, with this tutorial you got a glimpse of graph data and how to use PyTorch Geometric to train GNNs on a very popular dataset. \n",
    "\n",
    "Note that I haven't tested if this code works with GPUs. I will leave that as an exercise for the learner. \n",
    "\n",
    "If you are interested in the full tutorial and more examples, visit the [PyTorch Geomtric documentation](https://pytorch-geometric.readthedocs.io/en/latest/notes/introduction.html) where I adapted the code from. \n",
    "\n",
    "Feel free to reach out on [Twitter](https://twitter.com/omarsar0) if you have any further questions."
   ]
  }
 ],
 "metadata": {
  "kernelspec": {
   "display_name": "Python 3.9.12 ('base')",
   "language": "python",
   "name": "python3"
  },
  "language_info": {
   "codemirror_mode": {
    "name": "ipython",
    "version": 3
   },
   "file_extension": ".py",
   "mimetype": "text/x-python",
   "name": "python",
   "nbconvert_exporter": "python",
   "pygments_lexer": "ipython3",
   "version": "3.12.3"
  },
  "orig_nbformat": 4,
  "vscode": {
   "interpreter": {
    "hash": "d4d1e4263499bec80672ea0156c357c1ee493ec2b1c70f0acce89fc37c4a6abe"
   }
  }
 },
 "nbformat": 4,
 "nbformat_minor": 2
}
